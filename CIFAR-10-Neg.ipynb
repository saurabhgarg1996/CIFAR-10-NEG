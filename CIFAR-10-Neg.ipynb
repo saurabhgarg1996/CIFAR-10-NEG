{
 "cells": [
  {
   "cell_type": "code",
   "execution_count": 11,
   "id": "b5c28a94-c697-425c-9cae-dbad59359188",
   "metadata": {},
   "outputs": [
    {
     "data": {
      "image/png": "[encoded data removed]",
      "text/plain": [
       "<Figure size 432x288 with 1 Axes>"
      ]
     },
     "metadata": {
      "needs_background": "light"
     },
     "output_type": "display_data"
    }
   ],
   "source": [
    "import numpy as np\n",
    "from matplotlib import pyplot as plt\n",
    "\n",
    "class_names = ['plane', 'car', 'bird', 'cat', 'deer', 'dog', 'frog', 'horse', 'ship', 'truck']\n",
    "\n",
    "CIFAR_10_neg = np.load('CIFAR10_neg.npz')\n",
    "\n",
    "labels = CIFAR_10_neg['labels']\n",
    "imgs = CIFAR_10_neg['data']\n",
    "\n",
    "ind = 9\n",
    "\n",
    "plt.imshow(imgs[ind])\n",
    "plt.title(f\"label = {class_names[labels[ind]]}\")\n",
    "plt.show()\n"
   ]
  },
  {
   "cell_type": "code",
   "execution_count": 13,
   "id": "54c1cdac-07ac-4d3f-b588-1c5ad080a49c",
   "metadata": {},
   "outputs": [],
   "source": [
    "'''\n",
    "If you have CINIC downloaded then you can load with just indices  \n",
    "'''\n",
    "\n",
    "\n",
    "from torchvision.datasets import ImageFolder\n",
    "from torch.utils.data import  Subset\n",
    "import torchvision.transforms as transforms\n",
    "\n",
    "\n",
    "# Load CINIC-10 data\n",
    "cinic_directory = '/path/to/cinic/directory'\n",
    "\n",
    "cinic_mean = [0.47889522, 0.47227842, 0.43047404]\n",
    "cinic_std = [0.24205776, 0.23828046, 0.25874835]\n",
    "\n",
    "cinic_test = ImageFolder(cinic_directory + '/test',\\\n",
    "        transform=transforms.Compose([transforms.ToTensor(),\\\n",
    "        transforms.Normalize(mean=cinic_mean,std=cinic_std)]))\n",
    "\n",
    "\n",
    "# Load CINIC-10 indices\n",
    "data = np.load(\"CIFAR10_neg_idx.npz\")\n",
    "idx = data[\"idx\"]\n",
    "\n",
    "CIFAR_10_neg = Subset(cinic_test, idx)\n"
   ]
  },
  {
   "cell_type": "code",
   "execution_count": null,
   "id": "ae2d0c4d-21b0-41ae-a756-40a5f6af1d30",
   "metadata": {},
   "outputs": [],
   "source": []
  }
 ],
 "metadata": {
  "kernelspec": {
   "display_name": "Python 3",
   "language": "python",
   "name": "python3"
  },
  "language_info": {
   "codemirror_mode": {
    "name": "ipython",
    "version": 3
   },
   "file_extension": ".py",
   "mimetype": "text/x-python",
   "name": "python",
   "nbconvert_exporter": "python",
   "pygments_lexer": "ipython3",
   "version": "3.8.12"
  }
 },
 "nbformat": 4,
 "nbformat_minor": 5
}
